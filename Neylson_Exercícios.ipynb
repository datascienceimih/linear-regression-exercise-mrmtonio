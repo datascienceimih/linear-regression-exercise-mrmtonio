{
  "nbformat": 4,
  "nbformat_minor": 0,
  "metadata": {
    "colab": {
      "name": "Neylson Exercícios.ipynb",
      "version": "0.3.2",
      "provenance": []
    },
    "kernelspec": {
      "name": "python3",
      "display_name": "Python 3"
    }
  },
  "cells": [
    {
      "metadata": {
        "id": "10taOgRIrhsK",
        "colab_type": "text"
      },
      "cell_type": "markdown",
      "source": [
        "#Exercício 1\n"
      ]
    },
    {
      "metadata": {
        "id": "Q3jojikKRJgb",
        "colab_type": "text"
      },
      "cell_type": "markdown",
      "source": [
        "## 1"
      ]
    },
    {
      "metadata": {
        "id": "xWwYo6KN1tUY",
        "colab_type": "code",
        "colab": {}
      },
      "cell_type": "code",
      "source": [
        "import numpy as np\n",
        "import statsmodels.formula.api as sms\n",
        "import pandas as pd\n",
        "\n",
        "# Lendo os dados\n",
        "boston = pd.DataFrame.from_csv(\"https://raw.githubusercontent.com/selva86/datasets/master/BostonHousing.csv\")\n",
        "\n",
        "print(boston.head())"
      ],
      "execution_count": 0,
      "outputs": []
    },
    {
      "metadata": {
        "id": "cyze7UVVbY98",
        "colab_type": "code",
        "colab": {}
      },
      "cell_type": "code",
      "source": [
        "#abra o banco de dados Boston e estime 3 regressões:\n",
        "\n",
        "#A primeira prevendo medv usando como preditor lstat;\n",
        "lr1 = sms.ols(formula = \"medv ~ lstat\", data = boston).fit()\n",
        "print(lr1.summary())"
      ],
      "execution_count": 0,
      "outputs": []
    },
    {
      "metadata": {
        "id": "JV5NfHdVk-j3",
        "colab_type": "code",
        "colab": {}
      },
      "cell_type": "code",
      "source": [
        "#A segunda prevendo medv usando como preditor age;\n",
        "lr2 = sms.ols(formula = \"medv ~ age\", data = boston).fit()\n",
        "print(lr2.summary())"
      ],
      "execution_count": 0,
      "outputs": []
    },
    {
      "metadata": {
        "id": "QHLMvv_Lk-aj",
        "colab_type": "code",
        "colab": {}
      },
      "cell_type": "code",
      "source": [
        "#A terceira usando ambos os preditores.\n",
        "lr3 = sms.ols(formula = \"medv ~ lstat + age\", data = boston).fit()\n",
        "print(lr3.summary())"
      ],
      "execution_count": 0,
      "outputs": []
    },
    {
      "metadata": {
        "id": "eOp8sBEDrSca",
        "colab_type": "text"
      },
      "cell_type": "markdown",
      "source": [
        "\n",
        "### O que podemos dizer sobre o comportamento dos coeficientes estimados? E sobre o ajuste dos modelos?"
      ]
    },
    {
      "metadata": {
        "id": "md89qQjSQ3Pi",
        "colab_type": "text"
      },
      "cell_type": "markdown",
      "source": [
        "  Poder explicativo: \n",
        "\n",
        "  (R^2 = 1 significa uma correlação perfeita)\n",
        "\n",
        "      1°: R^2 = 0.544 \n",
        "\n",
        "      2°: R^2 = 0.142 (correlação fraca)\n",
        "\n",
        "      3°: R^2 = 0.551\n",
        "\n",
        "  Hipótese Nula:\n",
        "\n",
        "  (P-Valor < 0.05 significa que podemos considerar o efeito de x (β) como zero)\n",
        "\n",
        "      1°: P-Valor = 0.000; 0.000\n",
        "\n",
        "      2°: P-Valor = 0.000; 0.000\n",
        "\n",
        "      3°: P-Valor = 0.000; 0.000; 0.005\n",
        "\n",
        "\n",
        "  Erro Padrão:\n",
        "\n",
        "  (Distância média dos pontos na linha de regressão)\n",
        "\n",
        "      1°: std err = 0.563; 0.039\n",
        "\n",
        "      2°: std err = 0.999; 0.013\n",
        "\n",
        "      3°: std err = 0.731; 0.048; 0.012\n",
        "\n",
        "\n",
        "  O ajuste não provocou mudanças significativas no poder preditivo da regressão, dada a semelhança dos valores R^2 e R^2 ajustado.\n"
      ]
    },
    {
      "metadata": {
        "id": "jHA_LKW9zUuk",
        "colab_type": "code",
        "colab": {
          "base_uri": "https://localhost:8080/",
          "height": 739
        },
        "outputId": "9724b265-871d-4341-8116-30a3076dc367"
      },
      "cell_type": "code",
      "source": [
        "#Estime uma regressão usando todas as variáveis como preditoras.\n",
        "lr4 = sms.ols(formula = \"medv ~ zn + indus + chas + nox + rm + age \\\n",
        "                       + dis + rad + tax + ptratio + b + lstat\",data = boston).fit()\n",
        "print(lr4.summary())"
      ],
      "execution_count": 8,
      "outputs": [
        {
          "output_type": "stream",
          "text": [
            "                            OLS Regression Results                            \n",
            "==============================================================================\n",
            "Dep. Variable:                   medv   R-squared:                       0.735\n",
            "Model:                            OLS   Adj. R-squared:                  0.728\n",
            "Method:                 Least Squares   F-statistic:                     113.9\n",
            "Date:                Sun, 17 Mar 2019   Prob (F-statistic):          1.23e-133\n",
            "Time:                        10:38:39   Log-Likelihood:                -1504.3\n",
            "No. Observations:                 506   AIC:                             3035.\n",
            "Df Residuals:                     493   BIC:                             3090.\n",
            "Df Model:                          12                                         \n",
            "Covariance Type:            nonrobust                                         \n",
            "==============================================================================\n",
            "                 coef    std err          t      P>|t|      [0.025      0.975]\n",
            "------------------------------------------------------------------------------\n",
            "Intercept     35.3797      5.143      6.879      0.000      25.274      45.485\n",
            "zn             0.0425      0.014      3.077      0.002       0.015       0.070\n",
            "indus          0.0281      0.062      0.452      0.651      -0.094       0.150\n",
            "chas           2.8284      0.869      3.255      0.001       1.121       4.536\n",
            "nox          -17.0182      3.851     -4.420      0.000     -24.584      -9.452\n",
            "rm             3.8460      0.422      9.116      0.000       3.017       4.675\n",
            "age            0.0005      0.013      0.041      0.967      -0.026       0.027\n",
            "dis           -1.3990      0.200     -6.993      0.000      -1.792      -1.006\n",
            "rad            0.2478      0.065      3.838      0.000       0.121       0.375\n",
            "tax           -0.0122      0.004     -3.210      0.001      -0.020      -0.005\n",
            "ptratio       -0.9437      0.132     -7.145      0.000      -1.203      -0.684\n",
            "b              0.0103      0.003      3.841      0.000       0.005       0.016\n",
            "lstat         -0.5502      0.051    -10.870      0.000      -0.650      -0.451\n",
            "==============================================================================\n",
            "Omnibus:                      171.086   Durbin-Watson:                   1.070\n",
            "Prob(Omnibus):                  0.000   Jarque-Bera (JB):              761.307\n",
            "Skew:                           1.449   Prob(JB):                    4.83e-166\n",
            "Kurtosis:                       8.264   Cond. No.                     1.51e+04\n",
            "==============================================================================\n",
            "\n",
            "Warnings:\n",
            "[1] Standard Errors assume that the covariance matrix of the errors is correctly specified.\n",
            "[2] The condition number is large, 1.51e+04. This might indicate that there are\n",
            "strong multicollinearity or other numerical problems.\n"
          ],
          "name": "stdout"
        }
      ]
    },
    {
      "metadata": {
        "id": "GEJM-b0H46H1",
        "colab_type": "text"
      },
      "cell_type": "markdown",
      "source": [
        "## 2\n",
        "\n",
        "\n"
      ]
    },
    {
      "metadata": {
        "id": "zqAAX5r0RFYY",
        "colab_type": "text"
      },
      "cell_type": "markdown",
      "source": [
        "### Todas são úteis para prever medv? Quais você deixaria e quais tiraria? Por quê?\n",
        "\n",
        "Não, pois algumas possuem valor preditivo nulo, por causa de seu P-Valor, ou um erro padrão elevado, indicando que talvez seja um *outlier*.\n",
        "\n",
        "Retiraria:\n",
        "  \n",
        "  \n",
        "    \n",
        "  \n",
        "\n",
        "*   ***indus***,***age*** (com certeza) porque possuem efeito nulo.\n",
        "*   ***nox*** (talvez), pois possui um erro padrão elevado."
      ]
    },
    {
      "metadata": {
        "id": "mVf0AQJiOPbq",
        "colab_type": "text"
      },
      "cell_type": "markdown",
      "source": [
        "\n",
        "# Exercício 2\n"
      ]
    },
    {
      "metadata": {
        "id": "95OpzEvVV0s0",
        "colab_type": "text"
      },
      "cell_type": "markdown",
      "source": [
        "## ."
      ]
    },
    {
      "metadata": {
        "id": "YdX_QWIaRyQ-",
        "colab_type": "code",
        "colab": {
          "base_uri": "https://localhost:8080/",
          "height": 277
        },
        "outputId": "53d2eeb6-aefd-4f39-c6cb-ee9f34317371"
      },
      "cell_type": "code",
      "source": [
        "import numpy as np\n",
        "import pandas as pd\n",
        "import statsmodels.formula.api as sms\n",
        "\n",
        "# Lendo os dados\n",
        "credit = pd.read_csv(\"http://www-bcf.usc.edu/~gareth/ISL/Credit.csv\")\n",
        "credit = credit.iloc[:,1:]\n",
        "print(credit.head())"
      ],
      "execution_count": 23,
      "outputs": [
        {
          "output_type": "stream",
          "text": [
            "    Income  Limit  Rating  Cards  Age  Education  Gender Student Married  \\\n",
            "0   14.891   3606     283      2   34         11    Male      No     Yes   \n",
            "1  106.025   6645     483      3   82         15  Female     Yes     Yes   \n",
            "2  104.593   7075     514      4   71         11    Male      No      No   \n",
            "3  148.924   9504     681      3   36         11  Female      No      No   \n",
            "4   55.882   4897     357      2   68         16    Male      No     Yes   \n",
            "\n",
            "   Ethnicity  Balance  \n",
            "0  Caucasian      333  \n",
            "1      Asian      903  \n",
            "2      Asian      580  \n",
            "3      Asian      964  \n",
            "4  Caucasian      331  \n"
          ],
          "name": "stdout"
        }
      ]
    },
    {
      "metadata": {
        "id": "N294inHzRhiw",
        "colab_type": "text"
      },
      "cell_type": "markdown",
      "source": [
        "## 1"
      ]
    },
    {
      "metadata": {
        "id": "4fUWFs1aVGnk",
        "colab_type": "text"
      },
      "cell_type": "markdown",
      "source": [
        "### Estude a diferença entre o *balance* entre homens e mulheres usando um modelo de regressão."
      ]
    },
    {
      "metadata": {
        "id": "8ZCQ64roc3OO",
        "colab_type": "code",
        "colab": {
          "base_uri": "https://localhost:8080/",
          "height": 499
        },
        "outputId": "bc3c273e-14c2-4915-f2cb-5c3e17b7a17d"
      },
      "cell_type": "code",
      "source": [
        "lr1 = sms.ols(\"Balance ~ Gender\",data=credit).fit()\n",
        "print(lr1.summary())"
      ],
      "execution_count": 26,
      "outputs": [
        {
          "output_type": "stream",
          "text": [
            "                            OLS Regression Results                            \n",
            "==============================================================================\n",
            "Dep. Variable:                Balance   R-squared:                       0.000\n",
            "Model:                            OLS   Adj. R-squared:                 -0.002\n",
            "Method:                 Least Squares   F-statistic:                    0.1836\n",
            "Date:                Sun, 17 Mar 2019   Prob (F-statistic):              0.669\n",
            "Time:                        11:41:46   Log-Likelihood:                -3019.3\n",
            "No. Observations:                 400   AIC:                             6043.\n",
            "Df Residuals:                     398   BIC:                             6051.\n",
            "Df Model:                           1                                         \n",
            "Covariance Type:            nonrobust                                         \n",
            "==================================================================================\n",
            "                     coef    std err          t      P>|t|      [0.025      0.975]\n",
            "----------------------------------------------------------------------------------\n",
            "Intercept        529.5362     31.988     16.554      0.000     466.649     592.423\n",
            "Gender[T.Male]   -19.7331     46.051     -0.429      0.669    -110.267      70.801\n",
            "==============================================================================\n",
            "Omnibus:                       28.438   Durbin-Watson:                   1.940\n",
            "Prob(Omnibus):                  0.000   Jarque-Bera (JB):               27.346\n",
            "Skew:                           0.583   Prob(JB):                     1.15e-06\n",
            "Kurtosis:                       2.471   Cond. No.                         2.58\n",
            "==============================================================================\n",
            "\n",
            "Warnings:\n",
            "[1] Standard Errors assume that the covariance matrix of the errors is correctly specified.\n"
          ],
          "name": "stdout"
        }
      ]
    },
    {
      "metadata": {
        "id": "JQRS0pzKW6b4",
        "colab_type": "text"
      },
      "cell_type": "markdown",
      "source": [
        "### Interprete os resultados.\n",
        "\n",
        "O efeito preditivo da variável Gender é nulo, pois seu P-Valoa é maior que 0,05."
      ]
    },
    {
      "metadata": {
        "id": "lHHTn1YDQmqa",
        "colab_type": "text"
      },
      "cell_type": "markdown",
      "source": [
        "## 2"
      ]
    },
    {
      "metadata": {
        "id": "B6twyvjCVV2r",
        "colab_type": "text"
      },
      "cell_type": "markdown",
      "source": [
        "### Estude a diferença entre o *balance* entre pessoas de diferentes etnias usando um modelo de regressão."
      ]
    },
    {
      "metadata": {
        "id": "_bAD3-90k8NL",
        "colab_type": "code",
        "colab": {
          "base_uri": "https://localhost:8080/",
          "height": 517
        },
        "outputId": "39a27641-6587-4108-9b23-27b50f32f0af"
      },
      "cell_type": "code",
      "source": [
        "lr2 = sms.ols(\"Balance ~ Ethnicity\", data=credit).fit()\n",
        "print(lr2.summary())"
      ],
      "execution_count": 27,
      "outputs": [
        {
          "output_type": "stream",
          "text": [
            "                            OLS Regression Results                            \n",
            "==============================================================================\n",
            "Dep. Variable:                Balance   R-squared:                       0.000\n",
            "Model:                            OLS   Adj. R-squared:                 -0.005\n",
            "Method:                 Least Squares   F-statistic:                   0.04344\n",
            "Date:                Sun, 17 Mar 2019   Prob (F-statistic):              0.957\n",
            "Time:                        12:16:08   Log-Likelihood:                -3019.3\n",
            "No. Observations:                 400   AIC:                             6045.\n",
            "Df Residuals:                     397   BIC:                             6057.\n",
            "Df Model:                           2                                         \n",
            "Covariance Type:            nonrobust                                         \n",
            "==========================================================================================\n",
            "                             coef    std err          t      P>|t|      [0.025      0.975]\n",
            "------------------------------------------------------------------------------------------\n",
            "Intercept                531.0000     46.319     11.464      0.000     439.939     622.061\n",
            "Ethnicity[T.Asian]       -18.6863     65.021     -0.287      0.774    -146.515     109.142\n",
            "Ethnicity[T.Caucasian]   -12.5025     56.681     -0.221      0.826    -123.935      98.930\n",
            "==============================================================================\n",
            "Omnibus:                       28.829   Durbin-Watson:                   1.946\n",
            "Prob(Omnibus):                  0.000   Jarque-Bera (JB):               27.395\n",
            "Skew:                           0.581   Prob(JB):                     1.13e-06\n",
            "Kurtosis:                       2.460   Cond. No.                         4.39\n",
            "==============================================================================\n",
            "\n",
            "Warnings:\n",
            "[1] Standard Errors assume that the covariance matrix of the errors is correctly specified.\n"
          ],
          "name": "stdout"
        }
      ]
    },
    {
      "metadata": {
        "id": "sjXyfMBsXA9u",
        "colab_type": "text"
      },
      "cell_type": "markdown",
      "source": [
        "### Interprete os resultados.\n",
        "O efeito preditivo da variável Ethnicity é nulo, pois seu P-Valor é maior que 0,05."
      ]
    },
    {
      "metadata": {
        "id": "Pp9BjVE-RTjB",
        "colab_type": "text"
      },
      "cell_type": "markdown",
      "source": [
        "## 3"
      ]
    },
    {
      "metadata": {
        "id": "3oV6hZAlVgZv",
        "colab_type": "text"
      },
      "cell_type": "markdown",
      "source": [
        "### Estime agora um modelo de regressão utilizando todas as variáveis presentes."
      ]
    },
    {
      "metadata": {
        "id": "hFJIaMH5mZm0",
        "colab_type": "code",
        "colab": {
          "base_uri": "https://localhost:8080/",
          "height": 720
        },
        "outputId": "4ccdd140-9cb7-4e6b-a4ad-a485ce010869"
      },
      "cell_type": "code",
      "source": [
        "lr3 = sms.ols(\"Balance ~ Income + Limit + Rating + Cards + Age + Education\\\n",
        "              + Gender + Student + Married + Ethnicity\"\n",
        "              ,data=credit).fit()\n",
        "print(lr3.summary())"
      ],
      "execution_count": 38,
      "outputs": [
        {
          "output_type": "stream",
          "text": [
            "                            OLS Regression Results                            \n",
            "==============================================================================\n",
            "Dep. Variable:                Balance   R-squared:                       0.955\n",
            "Model:                            OLS   Adj. R-squared:                  0.954\n",
            "Method:                 Least Squares   F-statistic:                     750.3\n",
            "Date:                Sun, 17 Mar 2019   Prob (F-statistic):          1.11e-253\n",
            "Time:                        12:38:04   Log-Likelihood:                -2398.7\n",
            "No. Observations:                 400   AIC:                             4821.\n",
            "Df Residuals:                     388   BIC:                             4869.\n",
            "Df Model:                          11                                         \n",
            "Covariance Type:            nonrobust                                         \n",
            "==========================================================================================\n",
            "                             coef    std err          t      P>|t|      [0.025      0.975]\n",
            "------------------------------------------------------------------------------------------\n",
            "Intercept               -489.8611     35.801    -13.683      0.000    -560.250    -419.473\n",
            "Gender[T.Male]            10.6532      9.914      1.075      0.283      -8.839      30.145\n",
            "Student[T.Yes]           425.7474     16.723     25.459      0.000     392.869     458.626\n",
            "Married[T.Yes]            -8.5339     10.363     -0.824      0.411     -28.908      11.841\n",
            "Ethnicity[T.Asian]        16.8042     14.119      1.190      0.235     -10.955      44.564\n",
            "Ethnicity[T.Caucasian]    10.1070     12.210      0.828      0.408     -13.899      34.113\n",
            "Income                    -7.8031      0.234    -33.314      0.000      -8.264      -7.343\n",
            "Limit                      0.1909      0.033      5.824      0.000       0.126       0.255\n",
            "Rating                     1.1365      0.491      2.315      0.021       0.171       2.102\n",
            "Cards                     17.7245      4.341      4.083      0.000       9.190      26.259\n",
            "Age                       -0.6139      0.294     -2.088      0.037      -1.192      -0.036\n",
            "Education                 -1.0989      1.598     -0.688      0.492      -4.241       2.043\n",
            "==============================================================================\n",
            "Omnibus:                       34.899   Durbin-Watson:                   1.968\n",
            "Prob(Omnibus):                  0.000   Jarque-Bera (JB):               41.766\n",
            "Skew:                           0.782   Prob(JB):                     8.52e-10\n",
            "Kurtosis:                       3.241   Cond. No.                     3.87e+04\n",
            "==============================================================================\n",
            "\n",
            "Warnings:\n",
            "[1] Standard Errors assume that the covariance matrix of the errors is correctly specified.\n",
            "[2] The condition number is large, 3.87e+04. This might indicate that there are\n",
            "strong multicollinearity or other numerical problems.\n"
          ],
          "name": "stdout"
        }
      ]
    },
    {
      "metadata": {
        "id": "k41EaI0rXcBt",
        "colab_type": "text"
      },
      "cell_type": "markdown",
      "source": [
        "### Todas as variáveis ajudam a explicar o *balance*? Quais variáveis você tiraria? Como ficaria seu novo modelo?\n",
        "\n",
        "Não, pois algumas possuem valor preditivo nulo, por causa de seu P-Valor, ou um erro padrão elevado, indicando que talvez seja um *outlier*.\n",
        "\n",
        "Retiraria:\n",
        "  \n",
        "  \n",
        "    \n",
        "  \n",
        "\n",
        "*   ***Gender***,***Married***,***Ethnicity***,***Education*** (com certeza) porque possuem efeito nulo."
      ]
    },
    {
      "metadata": {
        "id": "scBqxwrKRWxw",
        "colab_type": "text"
      },
      "cell_type": "markdown",
      "source": [
        "## 4"
      ]
    },
    {
      "metadata": {
        "id": "xmIs9IfsVshy",
        "colab_type": "text"
      },
      "cell_type": "markdown",
      "source": [
        "### Estime o seu novo modelo."
      ]
    },
    {
      "metadata": {
        "id": "TzbMLwE3sK3s",
        "colab_type": "code",
        "colab": {
          "base_uri": "https://localhost:8080/",
          "height": 628
        },
        "outputId": "7fea147c-c5ef-4009-ac5c-ab3dfd0de6ad"
      },
      "cell_type": "code",
      "source": [
        "lr3 = sms.ols(\"Balance ~ Income + Limit + Rating + Cards + Age\\\n",
        "              + Student\"\n",
        "              ,data=credit).fit()\n",
        "print(lr3.summary())"
      ],
      "execution_count": 39,
      "outputs": [
        {
          "output_type": "stream",
          "text": [
            "                            OLS Regression Results                            \n",
            "==============================================================================\n",
            "Dep. Variable:                Balance   R-squared:                       0.955\n",
            "Model:                            OLS   Adj. R-squared:                  0.954\n",
            "Method:                 Least Squares   F-statistic:                     1380.\n",
            "Date:                Sun, 17 Mar 2019   Prob (F-statistic):          1.58e-260\n",
            "Time:                        12:47:21   Log-Likelihood:                -2400.5\n",
            "No. Observations:                 400   AIC:                             4815.\n",
            "Df Residuals:                     393   BIC:                             4843.\n",
            "Df Model:                           6                                         \n",
            "Covariance Type:            nonrobust                                         \n",
            "==================================================================================\n",
            "                     coef    std err          t      P>|t|      [0.025      0.975]\n",
            "----------------------------------------------------------------------------------\n",
            "Intercept       -493.7342     24.825    -19.889      0.000    -542.540    -444.928\n",
            "Student[T.Yes]   425.6099     16.510     25.780      0.000     393.152     458.068\n",
            "Income            -7.7951      0.233    -33.395      0.000      -8.254      -7.336\n",
            "Limit              0.1937      0.032      5.981      0.000       0.130       0.257\n",
            "Rating             1.0912      0.485      2.251      0.025       0.138       2.044\n",
            "Cards             18.2119      4.319      4.217      0.000       9.721      26.702\n",
            "Age               -0.6241      0.292     -2.139      0.033      -1.198      -0.050\n",
            "==============================================================================\n",
            "Omnibus:                       34.091   Durbin-Watson:                   1.954\n",
            "Prob(Omnibus):                  0.000   Jarque-Bera (JB):               40.623\n",
            "Skew:                           0.772   Prob(JB):                     1.51e-09\n",
            "Kurtosis:                       3.225   Cond. No.                     2.66e+04\n",
            "==============================================================================\n",
            "\n",
            "Warnings:\n",
            "[1] Standard Errors assume that the covariance matrix of the errors is correctly specified.\n",
            "[2] The condition number is large, 2.66e+04. This might indicate that there are\n",
            "strong multicollinearity or other numerical problems.\n"
          ],
          "name": "stdout"
        }
      ]
    },
    {
      "metadata": {
        "id": "VhdgBEypX1cV",
        "colab_type": "text"
      },
      "cell_type": "markdown",
      "source": [
        "### Interprete os resultados. O que podemos dizer sobre o ajuste do novo modelo em relação ao primeiro?\n",
        "\n",
        "  Possui mesmo valor preditivo que o primeiro. Observar a colinearidade das variáveis ficou mais fácil."
      ]
    }
  ]
}